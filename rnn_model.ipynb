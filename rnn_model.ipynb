{
 "cells": [
  {
   "cell_type": "code",
   "execution_count": null,
   "metadata": {},
   "outputs": [
    {
     "ename": "",
     "evalue": "",
     "output_type": "error",
     "traceback": [
      "\u001b[1;31mRunning cells with 'deepeon' requires the ipykernel package.\n",
      "\u001b[1;31mRun the following command to install 'ipykernel' into the Python environment. \n",
      "\u001b[1;31mCommand: 'conda install -n deepeon ipykernel --update-deps --force-reinstall'"
     ]
    }
   ],
   "source": [
    "import numpy as np # linear algebra\n",
    "import pandas as pd # data processing, CSV file I/O (e.g. pd.read_csv)\n",
    "import matplotlib.pyplot as plt\n",
    "from sklearn.preprocessing import MinMaxScaler\n",
    "from keras.models import Sequential\n",
    "from keras.layers import Dense\n",
    "from keras.layers import LSTM\n",
    "from keras.layers import Dropout\n",
    "from config import apple_dir"
   ]
  },
  {
   "cell_type": "code",
   "execution_count": 36,
   "metadata": {},
   "outputs": [
    {
     "data": {
      "text/html": [
       "<div>\n",
       "<style scoped>\n",
       "    .dataframe tbody tr th:only-of-type {\n",
       "        vertical-align: middle;\n",
       "    }\n",
       "\n",
       "    .dataframe tbody tr th {\n",
       "        vertical-align: top;\n",
       "    }\n",
       "\n",
       "    .dataframe thead th {\n",
       "        text-align: right;\n",
       "    }\n",
       "</style>\n",
       "<table border=\"1\" class=\"dataframe\">\n",
       "  <thead>\n",
       "    <tr style=\"text-align: right;\">\n",
       "      <th></th>\n",
       "      <th>Open</th>\n",
       "      <th>High</th>\n",
       "      <th>Low</th>\n",
       "      <th>Close</th>\n",
       "      <th>Volume</th>\n",
       "      <th>Dividends</th>\n",
       "      <th>Daily Return</th>\n",
       "    </tr>\n",
       "    <tr>\n",
       "      <th>Date</th>\n",
       "      <th></th>\n",
       "      <th></th>\n",
       "      <th></th>\n",
       "      <th></th>\n",
       "      <th></th>\n",
       "      <th></th>\n",
       "      <th></th>\n",
       "    </tr>\n",
       "  </thead>\n",
       "  <tbody>\n",
       "    <tr>\n",
       "      <th>2022-12-23</th>\n",
       "      <td>130.720412</td>\n",
       "      <td>132.218125</td>\n",
       "      <td>129.442364</td>\n",
       "      <td>131.658981</td>\n",
       "      <td>63814900</td>\n",
       "      <td>0.0</td>\n",
       "      <td>-0.279811</td>\n",
       "    </tr>\n",
       "    <tr>\n",
       "      <th>2022-12-27</th>\n",
       "      <td>131.179720</td>\n",
       "      <td>131.209673</td>\n",
       "      <td>128.523771</td>\n",
       "      <td>129.831772</td>\n",
       "      <td>69007800</td>\n",
       "      <td>0.0</td>\n",
       "      <td>-1.387835</td>\n",
       "    </tr>\n",
       "    <tr>\n",
       "      <th>2022-12-28</th>\n",
       "      <td>129.472318</td>\n",
       "      <td>130.830245</td>\n",
       "      <td>125.678116</td>\n",
       "      <td>125.847855</td>\n",
       "      <td>85438400</td>\n",
       "      <td>0.0</td>\n",
       "      <td>-3.068523</td>\n",
       "    </tr>\n",
       "    <tr>\n",
       "      <th>2022-12-29</th>\n",
       "      <td>127.794881</td>\n",
       "      <td>130.281083</td>\n",
       "      <td>127.535283</td>\n",
       "      <td>129.412415</td>\n",
       "      <td>75703700</td>\n",
       "      <td>0.0</td>\n",
       "      <td>2.832436</td>\n",
       "    </tr>\n",
       "    <tr>\n",
       "      <th>2022-12-30</th>\n",
       "      <td>128.214246</td>\n",
       "      <td>129.751892</td>\n",
       "      <td>127.235737</td>\n",
       "      <td>129.731918</td>\n",
       "      <td>76960600</td>\n",
       "      <td>0.0</td>\n",
       "      <td>0.246888</td>\n",
       "    </tr>\n",
       "  </tbody>\n",
       "</table>\n",
       "</div>"
      ],
      "text/plain": [
       "                  Open        High         Low       Close    Volume  \\\n",
       "Date                                                                   \n",
       "2022-12-23  130.720412  132.218125  129.442364  131.658981  63814900   \n",
       "2022-12-27  131.179720  131.209673  128.523771  129.831772  69007800   \n",
       "2022-12-28  129.472318  130.830245  125.678116  125.847855  85438400   \n",
       "2022-12-29  127.794881  130.281083  127.535283  129.412415  75703700   \n",
       "2022-12-30  128.214246  129.751892  127.235737  129.731918  76960600   \n",
       "\n",
       "            Dividends  Daily Return  \n",
       "Date                                 \n",
       "2022-12-23        0.0     -0.279811  \n",
       "2022-12-27        0.0     -1.387835  \n",
       "2022-12-28        0.0     -3.068523  \n",
       "2022-12-29        0.0      2.832436  \n",
       "2022-12-30        0.0      0.246888  "
      ]
     },
     "execution_count": 36,
     "metadata": {},
     "output_type": "execute_result"
    }
   ],
   "source": [
    "dataset = pd.read_csv(apple_dir, index_col=0)\n",
    "dataset.set_index(\"Date\", inplace=True)\n",
    "train_data = dataset.loc[\"2017-03-01\":\"2023-01-01\", :]\n",
    "test_data = dataset.loc[\"2023-01-01\":, :]\n",
    "train_data.tail()"
   ]
  },
  {
   "cell_type": "code",
   "execution_count": 37,
   "metadata": {},
   "outputs": [
    {
     "data": {
      "text/plain": [
       "array([[ 32.79735184],\n",
       "       [ 32.60262299],\n",
       "       [ 32.79499435],\n",
       "       ...,\n",
       "       [125.84785461],\n",
       "       [129.41241455],\n",
       "       [129.73191833]])"
      ]
     },
     "execution_count": 37,
     "metadata": {},
     "output_type": "execute_result"
    }
   ],
   "source": [
    "trainset = train_data.iloc[:,3:4].values\n",
    "trainset"
   ]
  },
  {
   "cell_type": "code",
   "execution_count": 38,
   "metadata": {},
   "outputs": [
    {
     "data": {
      "text/plain": [
       "(1471, 1)"
      ]
     },
     "execution_count": 38,
     "metadata": {},
     "output_type": "execute_result"
    }
   ],
   "source": [
    "sc = MinMaxScaler(feature_range = (0,1))\n",
    "training_scaled = sc.fit_transform(trainset)\n",
    "training_scaled.shape"
   ]
  },
  {
   "cell_type": "code",
   "execution_count": 39,
   "metadata": {},
   "outputs": [
    {
     "data": {
      "text/plain": [
       "(1411, 60)"
      ]
     },
     "execution_count": 39,
     "metadata": {},
     "output_type": "execute_result"
    }
   ],
   "source": [
    "x_train = []\n",
    "y_train = []\n",
    "for i in range(60,training_scaled.shape[0]):\n",
    "    x_train.append(training_scaled[i-60:i, 0])\n",
    "    y_train.append(training_scaled[i,0])\n",
    "x_train,y_train = np.array(x_train),np.array(y_train)\n",
    "x_train.shape"
   ]
  },
  {
   "cell_type": "code",
   "execution_count": 40,
   "metadata": {},
   "outputs": [
    {
     "data": {
      "text/plain": [
       "(1411, 60, 1)"
      ]
     },
     "execution_count": 40,
     "metadata": {},
     "output_type": "execute_result"
    }
   ],
   "source": [
    "x_train = np.reshape(x_train, (x_train.shape[0],x_train.shape[1],1))\n",
    "x_train.shape"
   ]
  },
  {
   "cell_type": "code",
   "execution_count": 41,
   "metadata": {},
   "outputs": [],
   "source": [
    "regressor = Sequential()\n",
    "regressor.add(LSTM(units = 50,return_sequences = True,input_shape = (x_train.shape[1],1)))\n",
    "regressor.add(Dropout(0.2))\n",
    "regressor.add(LSTM(units = 50,return_sequences = True))\n",
    "regressor.add(Dropout(0.2))\n",
    "regressor.add(LSTM(units = 50,return_sequences = True))\n",
    "regressor.add(Dropout(0.2))\n",
    "regressor.add(LSTM(units = 50))\n",
    "regressor.add(Dropout(0.2))\n",
    "regressor.add(Dense(units = 1))\n",
    "regressor.compile(optimizer = 'adam',loss = 'mean_squared_error')"
   ]
  },
  {
   "cell_type": "code",
   "execution_count": 42,
   "metadata": {},
   "outputs": [
    {
     "name": "stdout",
     "output_type": "stream",
     "text": [
      "Epoch 1/20\n",
      "45/45 [==============================] - 82s 348ms/step - loss: 0.0346\n",
      "Epoch 2/20\n",
      "45/45 [==============================] - 18s 402ms/step - loss: 0.0051\n",
      "Epoch 3/20\n",
      "45/45 [==============================] - 15s 326ms/step - loss: 0.0049\n",
      "Epoch 4/20\n",
      "45/45 [==============================] - 16s 363ms/step - loss: 0.0046\n",
      "Epoch 5/20\n",
      "45/45 [==============================] - 14s 311ms/step - loss: 0.0042\n",
      "Epoch 6/20\n",
      "45/45 [==============================] - 13s 300ms/step - loss: 0.0035\n",
      "Epoch 7/20\n",
      "45/45 [==============================] - 13s 299ms/step - loss: 0.0039\n",
      "Epoch 8/20\n",
      "45/45 [==============================] - 14s 306ms/step - loss: 0.0043\n",
      "Epoch 9/20\n",
      "45/45 [==============================] - 13s 278ms/step - loss: 0.0036\n",
      "Epoch 10/20\n",
      "45/45 [==============================] - 16s 348ms/step - loss: 0.0041\n",
      "Epoch 11/20\n",
      "45/45 [==============================] - 16s 355ms/step - loss: 0.0035\n",
      "Epoch 12/20\n",
      "45/45 [==============================] - 13s 289ms/step - loss: 0.0035\n",
      "Epoch 13/20\n",
      "45/45 [==============================] - 13s 299ms/step - loss: 0.0032\n",
      "Epoch 14/20\n",
      "45/45 [==============================] - 12s 267ms/step - loss: 0.0030\n",
      "Epoch 15/20\n",
      "45/45 [==============================] - 17s 377ms/step - loss: 0.0028\n",
      "Epoch 16/20\n",
      "45/45 [==============================] - 15s 341ms/step - loss: 0.0031\n",
      "Epoch 17/20\n",
      "45/45 [==============================] - 15s 342ms/step - loss: 0.0027\n",
      "Epoch 18/20\n",
      "45/45 [==============================] - 16s 358ms/step - loss: 0.0028\n",
      "Epoch 19/20\n",
      "45/45 [==============================] - 16s 364ms/step - loss: 0.0023\n",
      "Epoch 20/20\n",
      "45/45 [==============================] - 15s 328ms/step - loss: 0.0033\n"
     ]
    },
    {
     "data": {
      "text/plain": [
       "<keras.callbacks.History at 0x2265c7949d0>"
      ]
     },
     "execution_count": 42,
     "metadata": {},
     "output_type": "execute_result"
    }
   ],
   "source": [
    "regressor.fit(x_train, y_train, epochs = 20, batch_size = 32)"
   ]
  },
  {
   "cell_type": "code",
   "execution_count": 43,
   "metadata": {},
   "outputs": [
    {
     "data": {
      "text/plain": [
       "array([[124.87932587],\n",
       "       [126.16736603],\n",
       "       [124.82939911],\n",
       "       [129.4223938 ],\n",
       "       [129.95158386],\n",
       "       [130.53070068],\n",
       "       [133.28649902],\n",
       "       [133.20661926],\n",
       "       [134.55455017],\n",
       "       [135.73275757],\n",
       "       [135.00387573],\n",
       "       [135.06378174],\n",
       "       [137.6598053 ],\n",
       "       [140.8948822 ],\n",
       "       [142.31271362],\n",
       "       [141.64373779],\n",
       "       [143.74053955],\n",
       "       [145.70751953],\n",
       "       [142.78199768],\n",
       "       [144.07002258],\n",
       "       [145.20828247],\n",
       "       [150.59008789],\n",
       "       [154.26446533],\n",
       "       [151.49868774],\n",
       "       [154.41423035],\n",
       "       [151.68840027],\n",
       "       [150.63999939],\n",
       "       [151.00999451],\n",
       "       [153.8500061 ],\n",
       "       [153.19999695],\n",
       "       [155.33000183],\n",
       "       [153.71000671],\n",
       "       [152.55000305],\n",
       "       [148.47999573],\n",
       "       [148.91000366],\n",
       "       [149.3999939 ],\n",
       "       [146.71000671],\n",
       "       [147.91999817],\n",
       "       [147.41000366]])"
      ]
     },
     "execution_count": 43,
     "metadata": {},
     "output_type": "execute_result"
    }
   ],
   "source": [
    "real_stock_price = test_data.iloc[:,3:4].values\n",
    "dataset_total = pd.concat((train_data['Close'],test_data['Close']),axis = 0)\n",
    "real_stock_price"
   ]
  },
  {
   "cell_type": "code",
   "execution_count": 44,
   "metadata": {},
   "outputs": [
    {
     "data": {
      "text/plain": [
       "-21"
      ]
     },
     "execution_count": 44,
     "metadata": {},
     "output_type": "execute_result"
    }
   ],
   "source": [
    "len(dataset_total) - len(train_data)-60"
   ]
  },
  {
   "cell_type": "code",
   "execution_count": 45,
   "metadata": {},
   "outputs": [
    {
     "data": {
      "text/plain": [
       "array([144.96780396, 139.64477539, 139.97372437, 138.53829956,\n",
       "       137.90032959, 142.5355835 , 137.94021606, 141.95741272,\n",
       "       143.29315186, 143.40280151, 142.93429565, 146.80197144,\n",
       "       148.97502136, 151.85585022, 148.87535095, 144.33981323,\n",
       "       155.24505615, 152.85266113, 150.17120361, 144.56907654,\n",
       "       138.43862915, 138.16903687, 138.70820618, 139.28733826,\n",
       "       134.66438293, 146.64608765, 149.47177124, 148.05393982,\n",
       "       149.81124878, 148.56315613, 150.49023438, 151.05935669,\n",
       "       147.78434753, 149.95103455, 150.83970642, 147.88420105,\n",
       "       144.00013733, 140.95478821, 147.80432129, 148.08389282,\n",
       "       147.58465576, 146.40646362, 142.69213867, 140.72514343,\n",
       "       142.43252563, 141.94328308, 144.26972961, 145.24822998,\n",
       "       142.99168396, 136.29190063, 134.30493164, 132.16819763,\n",
       "       132.09831238, 135.24349976, 132.02841187, 131.65898132,\n",
       "       129.83177185, 125.84785461, 129.41241455, 129.73191833,\n",
       "       124.87932587, 126.16736603, 124.82939911, 129.4223938 ,\n",
       "       129.95158386, 130.53070068, 133.28649902, 133.20661926,\n",
       "       134.55455017, 135.73275757, 135.00387573, 135.06378174,\n",
       "       137.6598053 , 140.8948822 , 142.31271362, 141.64373779,\n",
       "       143.74053955, 145.70751953, 142.78199768, 144.07002258,\n",
       "       145.20828247, 150.59008789, 154.26446533, 151.49868774,\n",
       "       154.41423035, 151.68840027, 150.63999939, 151.00999451,\n",
       "       153.8500061 , 153.19999695, 155.33000183, 153.71000671,\n",
       "       152.55000305, 148.47999573, 148.91000366, 149.3999939 ,\n",
       "       146.71000671, 147.91999817, 147.41000366])"
      ]
     },
     "execution_count": 45,
     "metadata": {},
     "output_type": "execute_result"
    }
   ],
   "source": [
    "inputs = dataset_total[len(dataset_total) - len(test_data)-60:].values\n",
    "inputs"
   ]
  },
  {
   "cell_type": "code",
   "execution_count": 46,
   "metadata": {},
   "outputs": [
    {
     "data": {
      "text/plain": [
       "array([[144.96780396],\n",
       "       [139.64477539],\n",
       "       [139.97372437],\n",
       "       [138.53829956],\n",
       "       [137.90032959],\n",
       "       [142.5355835 ],\n",
       "       [137.94021606],\n",
       "       [141.95741272],\n",
       "       [143.29315186],\n",
       "       [143.40280151],\n",
       "       [142.93429565],\n",
       "       [146.80197144],\n",
       "       [148.97502136],\n",
       "       [151.85585022],\n",
       "       [148.87535095],\n",
       "       [144.33981323],\n",
       "       [155.24505615],\n",
       "       [152.85266113],\n",
       "       [150.17120361],\n",
       "       [144.56907654],\n",
       "       [138.43862915],\n",
       "       [138.16903687],\n",
       "       [138.70820618],\n",
       "       [139.28733826],\n",
       "       [134.66438293],\n",
       "       [146.64608765],\n",
       "       [149.47177124],\n",
       "       [148.05393982],\n",
       "       [149.81124878],\n",
       "       [148.56315613],\n",
       "       [150.49023438],\n",
       "       [151.05935669],\n",
       "       [147.78434753],\n",
       "       [149.95103455],\n",
       "       [150.83970642],\n",
       "       [147.88420105],\n",
       "       [144.00013733],\n",
       "       [140.95478821],\n",
       "       [147.80432129],\n",
       "       [148.08389282],\n",
       "       [147.58465576],\n",
       "       [146.40646362],\n",
       "       [142.69213867],\n",
       "       [140.72514343],\n",
       "       [142.43252563],\n",
       "       [141.94328308],\n",
       "       [144.26972961],\n",
       "       [145.24822998],\n",
       "       [142.99168396],\n",
       "       [136.29190063],\n",
       "       [134.30493164],\n",
       "       [132.16819763],\n",
       "       [132.09831238],\n",
       "       [135.24349976],\n",
       "       [132.02841187],\n",
       "       [131.65898132],\n",
       "       [129.83177185],\n",
       "       [125.84785461],\n",
       "       [129.41241455],\n",
       "       [129.73191833],\n",
       "       [124.87932587],\n",
       "       [126.16736603],\n",
       "       [124.82939911],\n",
       "       [129.4223938 ],\n",
       "       [129.95158386],\n",
       "       [130.53070068],\n",
       "       [133.28649902],\n",
       "       [133.20661926],\n",
       "       [134.55455017],\n",
       "       [135.73275757],\n",
       "       [135.00387573],\n",
       "       [135.06378174],\n",
       "       [137.6598053 ],\n",
       "       [140.8948822 ],\n",
       "       [142.31271362],\n",
       "       [141.64373779],\n",
       "       [143.74053955],\n",
       "       [145.70751953],\n",
       "       [142.78199768],\n",
       "       [144.07002258],\n",
       "       [145.20828247],\n",
       "       [150.59008789],\n",
       "       [154.26446533],\n",
       "       [151.49868774],\n",
       "       [154.41423035],\n",
       "       [151.68840027],\n",
       "       [150.63999939],\n",
       "       [151.00999451],\n",
       "       [153.8500061 ],\n",
       "       [153.19999695],\n",
       "       [155.33000183],\n",
       "       [153.71000671],\n",
       "       [152.55000305],\n",
       "       [148.47999573],\n",
       "       [148.91000366],\n",
       "       [149.3999939 ],\n",
       "       [146.71000671],\n",
       "       [147.91999817],\n",
       "       [147.41000366]])"
      ]
     },
     "execution_count": 46,
     "metadata": {},
     "output_type": "execute_result"
    }
   ],
   "source": [
    "inputs = inputs.reshape(-1,1)\n",
    "inputs"
   ]
  },
  {
   "cell_type": "code",
   "execution_count": 47,
   "metadata": {},
   "outputs": [
    {
     "data": {
      "text/plain": [
       "(99, 1)"
      ]
     },
     "execution_count": 47,
     "metadata": {},
     "output_type": "execute_result"
    }
   ],
   "source": [
    "inputs = sc.transform(inputs)\n",
    "inputs.shape"
   ]
  },
  {
   "cell_type": "code",
   "execution_count": 48,
   "metadata": {},
   "outputs": [
    {
     "data": {
      "text/plain": [
       "(39, 60)"
      ]
     },
     "execution_count": 48,
     "metadata": {},
     "output_type": "execute_result"
    }
   ],
   "source": [
    "x_test = []\n",
    "for i in range(60,inputs.shape[0]):\n",
    "    x_test.append(inputs[i-60:i,0])\n",
    "x_test = np.array(x_test)\n",
    "x_test.shape"
   ]
  },
  {
   "cell_type": "code",
   "execution_count": 49,
   "metadata": {},
   "outputs": [
    {
     "data": {
      "text/plain": [
       "(39, 60, 1)"
      ]
     },
     "execution_count": 49,
     "metadata": {},
     "output_type": "execute_result"
    }
   ],
   "source": [
    "x_test = np.reshape(x_test, (x_test.shape[0],x_test.shape[1],1))\n",
    "x_test.shape"
   ]
  },
  {
   "cell_type": "code",
   "execution_count": 50,
   "metadata": {},
   "outputs": [
    {
     "name": "stdout",
     "output_type": "stream",
     "text": [
      "2/2 [==============================] - 11s 78ms/step\n"
     ]
    },
    {
     "data": {
      "text/plain": [
       "array([[127.73322 ],\n",
       "       [126.77906 ],\n",
       "       [125.871254],\n",
       "       [125.00966 ],\n",
       "       [124.23425 ],\n",
       "       [123.59149 ],\n",
       "       [123.11888 ],\n",
       "       [122.85578 ],\n",
       "       [122.817986],\n",
       "       [123.00494 ],\n",
       "       [123.40277 ],\n",
       "       [123.972084],\n",
       "       [124.65902 ],\n",
       "       [125.42685 ],\n",
       "       [126.2679  ],\n",
       "       [127.1838  ],\n",
       "       [128.15848 ],\n",
       "       [129.17868 ],\n",
       "       [130.23827 ],\n",
       "       [131.2963  ],\n",
       "       [132.3136  ],\n",
       "       [133.26456 ],\n",
       "       [134.17555 ],\n",
       "       [135.10532 ],\n",
       "       [136.07082 ],\n",
       "       [137.08423 ],\n",
       "       [138.11426 ],\n",
       "       [139.10498 ],\n",
       "       [140.00487 ],\n",
       "       [140.80014 ],\n",
       "       [141.48584 ],\n",
       "       [142.08089 ],\n",
       "       [142.59224 ],\n",
       "       [143.01309 ],\n",
       "       [143.30269 ],\n",
       "       [143.43323 ],\n",
       "       [143.40308 ],\n",
       "       [143.20877 ],\n",
       "       [142.87227 ]], dtype=float32)"
      ]
     },
     "execution_count": 50,
     "metadata": {},
     "output_type": "execute_result"
    }
   ],
   "source": [
    "predicted_price = regressor.predict(x_test)\n",
    "predicted_price = sc.inverse_transform(predicted_price)\n",
    "predicted_price"
   ]
  },
  {
   "cell_type": "code",
   "execution_count": 51,
   "metadata": {},
   "outputs": [
    {
     "data": {
      "text/plain": [
       "array([[124.87932587],\n",
       "       [126.16736603],\n",
       "       [124.82939911],\n",
       "       [129.4223938 ],\n",
       "       [129.95158386],\n",
       "       [130.53070068],\n",
       "       [133.28649902],\n",
       "       [133.20661926],\n",
       "       [134.55455017],\n",
       "       [135.73275757],\n",
       "       [135.00387573],\n",
       "       [135.06378174],\n",
       "       [137.6598053 ],\n",
       "       [140.8948822 ],\n",
       "       [142.31271362],\n",
       "       [141.64373779],\n",
       "       [143.74053955],\n",
       "       [145.70751953],\n",
       "       [142.78199768],\n",
       "       [144.07002258],\n",
       "       [145.20828247],\n",
       "       [150.59008789],\n",
       "       [154.26446533],\n",
       "       [151.49868774],\n",
       "       [154.41423035],\n",
       "       [151.68840027],\n",
       "       [150.63999939],\n",
       "       [151.00999451],\n",
       "       [153.8500061 ],\n",
       "       [153.19999695],\n",
       "       [155.33000183],\n",
       "       [153.71000671],\n",
       "       [152.55000305],\n",
       "       [148.47999573],\n",
       "       [148.91000366],\n",
       "       [149.3999939 ],\n",
       "       [146.71000671],\n",
       "       [147.91999817],\n",
       "       [147.41000366]])"
      ]
     },
     "execution_count": 51,
     "metadata": {},
     "output_type": "execute_result"
    }
   ],
   "source": [
    "real_stock_price"
   ]
  },
  {
   "cell_type": "code",
   "execution_count": 52,
   "metadata": {},
   "outputs": [
    {
     "data": {
      "image/png": "[encoded data removed]",
      "text/plain": [
       "<Figure size 640x480 with 1 Axes>"
      ]
     },
     "metadata": {},
     "output_type": "display_data"
    }
   ],
   "source": [
    "plt.plot(real_stock_price,color = 'red', label = 'Real Price')\n",
    "plt.plot(predicted_price, color = 'blue', label = 'Predicted Price')\n",
    "plt.title('Apple Stock Price Prediction')\n",
    "plt.xlabel('Time')\n",
    "plt.ylabel('Apple Stock Price')\n",
    "plt.legend()\n",
    "plt.show()"
   ]
  }
 ],
 "metadata": {
  "kernelspec": {
   "display_name": "deepeon",
   "language": "python",
   "name": "python3"
  },
  "language_info": {
   "codemirror_mode": {
    "name": "ipython",
    "version": 3
   },
   "file_extension": ".py",
   "mimetype": "text/x-python",
   "name": "python",
   "nbconvert_exporter": "python",
   "pygments_lexer": "ipython3",
   "version": "3.9.6"
  },
  "orig_nbformat": 4,
  "vscode": {
   "interpreter": {
    "hash": "54b398f996a6e9e77366ddef669c1b1b026cc1a85b810615cfa1e8aa1a66750a"
   }
  }
 },
 "nbformat": 4,
 "nbformat_minor": 2
}
